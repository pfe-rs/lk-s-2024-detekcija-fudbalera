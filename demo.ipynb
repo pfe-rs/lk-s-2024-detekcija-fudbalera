{
 "cells": [
  {
   "cell_type": "markdown",
   "metadata": {},
   "source": [
    "Razlaganje videa na frejmove, detektovanje, crtanje bounding boxeva i sklapanje u video"
   ]
  },
  {
   "cell_type": "code",
   "execution_count": null,
   "metadata": {},
   "outputs": [],
   "source": [
    "import os\n",
    "import cv2\n",
    "import torch\n",
    "import torchvision\n",
    "from torchvision.models.detection.faster_rcnn import FastRCNNPredictor\n",
    "from torchvision.transforms import functional as F\n",
    "import numpy as np\n",
    "\n",
    "from src.customDataset import *\n",
    "from src.modelFunkcije import *\n",
    "from src.metrike import *\n",
    "from src.demofunkcije import*\n",
    "from src.utils import *\n",
    "\n",
    "# Ucitamo model\n",
    "model = get_model(num_classes)\n",
    "model.load_state_dict(torch.load('/notebooks/lk-s-2024-detekcija-fudbalera/finetune modeli/frcnn_custom_final.pth', map_location='cpu'))\n",
    "\n",
    "# Definisemo device (CPU / GPU)\n",
    "device = torch.device('cuda') if torch.cuda.is_available() else torch.device('cpu')\n",
    "model.to(device)\n",
    "model.eval()\n",
    "\n",
    "# Definisemo path za input i output video\n",
    "video_path = '/notebooks/lk-s-2024-detekcija-fudbalera/Spain_VS_England.mp4'\n",
    "output_video_path = '/notebooks/lk-s-2024-detekcija-fudbalera/demovidei/video2/demo2.mp4'\n",
    "\n",
    "# Procesuiranje videa\n",
    "process_video(video_path, output_video_path, model, device, fps=30)\n"
   ]
  }
 ],
 "metadata": {
  "kernelspec": {
   "display_name": "Python 3",
   "language": "python",
   "name": "python3"
  },
  "language_info": {
   "name": "python",
   "version": "3.11.3"
  }
 },
 "nbformat": 4,
 "nbformat_minor": 2
}
