{
 "cells": [
  {
   "cell_type": "code",
   "execution_count": null,
   "metadata": {},
   "outputs": [],
   "source": [
    "import torch\n",
    "import torch.nn as nn\n",
    "import torch.optim as optim\n",
    "from torch.utils.data import Dataset, DataLoader\n",
    "from torchvision import transforms\n",
    "import os\n",
    "from PIL import Image\n",
    "import torchvision.models as models\n",
    "\n",
    "from src.yolov8 import *\n",
    "from src.yoloTrain import *\n",
    "from src.yoloDataset import *\n",
    "from src.yoloLoss import *\n",
    "from src.utils import *"
   ]
  },
  {
   "cell_type": "code",
   "execution_count": null,
   "metadata": {},
   "outputs": [],
   "source": [
    "from src.datasetSetup import srediDataset\n",
    "srediDataset(\"datasetoviraw\", \"datasetyolo.zip\")"
   ]
  },
  {
   "cell_type": "code",
   "execution_count": null,
   "metadata": {},
   "outputs": [],
   "source": [
    "model = YOLOv8(features)\n",
    "optimizer = optim.Adam(model.fc_layers.parameters(), lr=0.001)\n",
    "\n",
    "train_dataset = YoloV8Dataset(train_img_dir, train_labels_dir, transform=transform_yolo)\n",
    "train_loader = DataLoader(train_dataset, batch_size=batch_size_yolo, shuffle=True, num_workers=2, collate_fn=collate_fn)\n",
    "\n",
    "\n",
    "device = torch.device('cuda') if torch.cuda.is_available() else torch.device('cpu')\n",
    "model = model.to(device)"
   ]
  },
  {
   "cell_type": "code",
   "execution_count": null,
   "metadata": {},
   "outputs": [],
   "source": [
    "\n",
    "for epoch in range(num_epochs_yolo):\n",
    "    epoch_loss = train(model, optimizer, train_loader, device)\n",
    "    print(f'Epoch {epoch+1}/{num_epochs_yolo}, Loss: {epoch_loss:.4f}')"
   ]
  }
 ],
 "metadata": {
  "language_info": {
   "name": "python"
  }
 },
 "nbformat": 4,
 "nbformat_minor": 2
}
