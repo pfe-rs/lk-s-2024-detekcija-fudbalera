{
 "cells": [
  {
   "cell_type": "code",
   "execution_count": null,
   "metadata": {},
   "outputs": [],
   "source": [
    "import torch\n",
    "import torchvision\n",
    "import cv2\n",
    "import numpy as np\n",
    "from scipy.cluster.vq import kmeans, vq\n",
    "import matplotlib.pyplot as plt\n",
    "\n",
    "from src.jerseydetection import *\n",
    "from src.utils import *\n",
    "from src.modelFunkcije import *\n"
   ]
  },
  {
   "cell_type": "code",
   "execution_count": null,
   "metadata": {},
   "outputs": [],
   "source": [
    "# ucitavanje modela\n",
    "model = get_model(num_classes)\n",
    "model.load_state_dict(torch.load('/notebooks/lk-s-2024-detekcija-fudbalera/finetune modeli/frcnn_custom_final.pth'))\n",
    "model.eval()"
   ]
  },
  {
   "cell_type": "code",
   "execution_count": null,
   "metadata": {},
   "outputs": [],
   "source": [
    "# Primer na slici. Detektuje i ispravlja labele i razlikuje timove\n",
    "image_path = '/notebooks/lk-s-2024-detekcija-fudbalera/datasetovi/dataset1.zip_sredjen/test/images/a9f16c_2_9_png.rf.ee1080f3ec9bad6ba2b8ae4799f90b59.jpg'\n",
    "corrected_labels = detect_and_correct_labels(image_path, model)\n",
    "\n",
    "print(corrected_labels)"
   ]
  }
 ],
 "metadata": {
  "kernelspec": {
   "display_name": "Python 3",
   "language": "python",
   "name": "python3"
  },
  "language_info": {
   "name": "python",
   "version": "3.11.3"
  }
 },
 "nbformat": 4,
 "nbformat_minor": 2
}
