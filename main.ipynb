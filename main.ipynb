{
 "cells": [
  {
   "cell_type": "code",
   "execution_count": 6,
   "metadata": {},
   "outputs": [],
   "source": [
    "from src.datasetSetup import srediDataset\n",
    "srediDataset(\"datasetovi\", \"dataset1.zip\")"
   ]
  },
  {
   "cell_type": "markdown",
   "metadata": {},
   "source": [
    "Skidanje dataseta, unzipovanje, organizovanje (iznad) "
   ]
  },
  {
   "cell_type": "markdown",
   "metadata": {},
   "source": [
    "Loading data i ucitavanje pretreniranog modela, detektovanje objekata na slici PRE fine-tuninga"
   ]
  },
  {
   "cell_type": "code",
   "execution_count": 2,
   "metadata": {},
   "outputs": [],
   "source": [
    "import matplotlib.pyplot as plt\n",
    "import torchvision\n",
    "import cv2\n",
    "from src.customDataset import CustomVOCDataset\n",
    "from src.modelFunkcije import *\n",
    "from src.utils import *"
   ]
  },
  {
   "cell_type": "code",
   "execution_count": null,
   "metadata": {},
   "outputs": [],
   "source": [
    "# Definisemo transformations\n",
    "transform = T.Compose([T.ToTensor()])\n",
    "\n",
    "# Kreiramo dataset instancu i dataloader\n",
    "dataset = CustomVOCDataset(root='datasetovi/dataset1.zip_sredjen/valid', CLASSES=classes, transforms=transform)\n",
    "data_loader = DataLoader(dataset, batch_size=1, shuffle=False, num_workers=4)\n",
    "\n",
    "# Ucitamo pretrenirani Faster R-CNN model\n",
    "model = torchvision.models.detection.fasterrcnn_resnet50_fpn(pretrained=True)\n",
    "model.eval()\n",
    "\n",
    "device = torch.device('cuda') if torch.cuda.is_available() else torch.device('cpu')\n",
    "model.to(device)\n",
    "\n",
    "# Pokrenemo detektovanje nad datasetom koji smo load-ovali\n",
    "iteration_count = 0\n",
    "for images, targets in data_loader:\n",
    "\n",
    "    if iteration_count >= N:\n",
    "        break\n",
    "\n",
    "    images = list(img.to(device) for img in images)\n",
    "\n",
    "    with torch.no_grad():\n",
    "        prediction = model(images)\n",
    "\n",
    "    for img, pred in zip(images, prediction):\n",
    "        plot_image_with_boxes(img, pred['boxes'], pred['labels'], pred['scores'], classes)\n",
    "\n",
    "    iteration_count += 1"
   ]
  },
  {
   "cell_type": "markdown",
   "metadata": {},
   "source": [
    "Loading data i fine-tuning modela"
   ]
  },
  {
   "cell_type": "code",
   "execution_count": 3,
   "metadata": {},
   "outputs": [],
   "source": [
    "import os\n",
    "import xml.etree.ElementTree as ET\n",
    "from PIL import Image\n",
    "import torch\n",
    "import torchvision\n",
    "import torchvision.transforms as T\n",
    "from torch.utils.data import Dataset, DataLoader\n",
    "from torchvision.models.detection.faster_rcnn import FastRCNNPredictor\n",
    "from src.customDataset import CustomVOCDataset\n",
    "from src.modelFunkcije import *\n",
    "from src.utils import *"
   ]
  },
  {
   "cell_type": "code",
   "execution_count": null,
   "metadata": {},
   "outputs": [],
   "source": [
    "# Definisemo transformations\n",
    "transform = T.Compose([T.ToTensor()])\n",
    "\n",
    "def my_collate_fn(x): return tuple(zip(*x))\n",
    "\n",
    "# Kreiramo dataset instancu i dataloader\n",
    "dataset = CustomVOCDataset(root='datasetovi/dataset1.zip_sredjen/train', CLASSES=CLASSES, transforms=transform)\n",
    "data_loader = DataLoader(dataset, batch_size=1, shuffle=True, num_workers=0, collate_fn=my_collate_fn)\n",
    "\n",
    "# Glavni deo koda za trening\n",
    "device = torch.device('cuda') if torch.cuda.is_available() else torch.device('cpu')\n",
    "model = get_model(num_classes)\n",
    "model.to(device)\n",
    "\n",
    "train_model(model, data_loader, device, num_epochs)\n",
    "\n",
    "save_directory = 'finetune modeli'\n",
    "os.makedirs(save_directory, exist_ok=True)\n",
    "\n",
    "# Cuva model\n",
    "torch.save(model.state_dict(), os.path.join(save_directory, 'frcnn_custom_final.pth'))"
   ]
  },
  {
   "cell_type": "markdown",
   "metadata": {},
   "source": [
    "Plotovanje rezultata"
   ]
  },
  {
   "cell_type": "code",
   "execution_count": 4,
   "metadata": {},
   "outputs": [],
   "source": [
    "import cv2\n",
    "import matplotlib\n",
    "import matplotlib.pyplot as plt\n",
    "from src.utils import *"
   ]
  },
  {
   "cell_type": "code",
   "execution_count": null,
   "metadata": {},
   "outputs": [],
   "source": [
    "# Kreiramo dataset instancu i dataloader\n",
    "dataset2 = CustomVOCDataset(root='datasetovi\\dataset1.zip_sredjen\\test', CLASSES=CLASSES, transforms=transform)\n",
    "data_loader2 = DataLoader(dataset2, batch_size=1, shuffle=True, num_workers=4, collate_fn=my_collate_fn)\n",
    "\n",
    "model.eval()\n",
    "\n",
    "# Pokrenemo detektovanje nad datasetom koji smo load-ovali\n",
    "iteration_count = 0\n",
    "for images, targets in data_loader2:\n",
    "\n",
    "    if iteration_count >= N:\n",
    "        break\n",
    "\n",
    "    images = list(img.to(device) for img in images)\n",
    "    with torch.no_grad():\n",
    "        prediction = model(images)\n",
    "\n",
    "    for img, pred in zip(images, prediction):\n",
    "        plot_image_with_boxes(img, pred['boxes'], pred['labels'], pred['scores'], CLASSES)\n",
    "\n",
    "    iteration_count += 1"
   ]
  }
 ],
 "metadata": {
  "kernelspec": {
   "display_name": "Python 3",
   "language": "python",
   "name": "python3"
  },
  "language_info": {
   "codemirror_mode": {
    "name": "ipython",
    "version": 3
   },
   "file_extension": ".py",
   "mimetype": "text/x-python",
   "name": "python",
   "nbconvert_exporter": "python",
   "pygments_lexer": "ipython3",
   "version": "3.11.3"
  }
 },
 "nbformat": 4,
 "nbformat_minor": 2
}
